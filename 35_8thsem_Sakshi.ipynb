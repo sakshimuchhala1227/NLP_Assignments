{
 "cells": [
  {
   "cell_type": "code",
   "execution_count": 17,
   "id": "b5ed194c-e84d-43c5-8e98-6771e1c6c530",
   "metadata": {},
   "outputs": [
    {
     "name": "stdout",
     "output_type": "stream",
     "text": [
      "Requirement already satisfied: Spacy in c:\\users\\dell\\appdata\\local\\programs\\python\\python310\\lib\\site-packages (3.8.4)\n",
      "Requirement already satisfied: spacy-legacy<3.1.0,>=3.0.11 in c:\\users\\dell\\appdata\\local\\programs\\python\\python310\\lib\\site-packages (from Spacy) (3.0.12)\n",
      "Requirement already satisfied: catalogue<2.1.0,>=2.0.6 in c:\\users\\dell\\appdata\\local\\programs\\python\\python310\\lib\\site-packages (from Spacy) (2.0.10)\n",
      "Requirement already satisfied: jinja2 in c:\\users\\dell\\appdata\\local\\programs\\python\\python310\\lib\\site-packages (from Spacy) (3.1.4)\n",
      "Requirement already satisfied: wasabi<1.2.0,>=0.9.1 in c:\\users\\dell\\appdata\\local\\programs\\python\\python310\\lib\\site-packages (from Spacy) (1.1.3)\n",
      "Requirement already satisfied: pydantic!=1.8,!=1.8.1,<3.0.0,>=1.7.4 in c:\\users\\dell\\appdata\\local\\programs\\python\\python310\\lib\\site-packages (from Spacy) (2.10.6)\n",
      "Requirement already satisfied: cymem<2.1.0,>=2.0.2 in c:\\users\\dell\\appdata\\local\\programs\\python\\python310\\lib\\site-packages (from Spacy) (2.0.11)\n",
      "Requirement already satisfied: preshed<3.1.0,>=3.0.2 in c:\\users\\dell\\appdata\\local\\programs\\python\\python310\\lib\\site-packages (from Spacy) (3.0.9)\n",
      "Requirement already satisfied: numpy>=1.19.0 in c:\\users\\dell\\appdata\\local\\programs\\python\\python310\\lib\\site-packages (from Spacy) (1.26.4)\n",
      "Requirement already satisfied: murmurhash<1.1.0,>=0.28.0 in c:\\users\\dell\\appdata\\local\\programs\\python\\python310\\lib\\site-packages (from Spacy) (1.0.12)\n",
      "Requirement already satisfied: requests<3.0.0,>=2.13.0 in c:\\users\\dell\\appdata\\local\\programs\\python\\python310\\lib\\site-packages (from Spacy) (2.32.3)\n",
      "Requirement already satisfied: typer<1.0.0,>=0.3.0 in c:\\users\\dell\\appdata\\local\\programs\\python\\python310\\lib\\site-packages (from Spacy) (0.15.1)\n",
      "Requirement already satisfied: spacy-loggers<2.0.0,>=1.0.0 in c:\\users\\dell\\appdata\\local\\programs\\python\\python310\\lib\\site-packages (from Spacy) (1.0.5)\n",
      "Requirement already satisfied: setuptools in c:\\users\\dell\\appdata\\local\\programs\\python\\python310\\lib\\site-packages (from Spacy) (65.5.0)\n",
      "Requirement already satisfied: weasel<0.5.0,>=0.1.0 in c:\\users\\dell\\appdata\\local\\programs\\python\\python310\\lib\\site-packages (from Spacy) (0.4.1)\n",
      "Requirement already satisfied: srsly<3.0.0,>=2.4.3 in c:\\users\\dell\\appdata\\local\\programs\\python\\python310\\lib\\site-packages (from Spacy) (2.5.1)\n",
      "Requirement already satisfied: tqdm<5.0.0,>=4.38.0 in c:\\users\\dell\\appdata\\local\\programs\\python\\python310\\lib\\site-packages (from Spacy) (4.67.1)\n",
      "Requirement already satisfied: packaging>=20.0 in c:\\users\\dell\\appdata\\local\\programs\\python\\python310\\lib\\site-packages (from Spacy) (24.2)\n",
      "Requirement already satisfied: thinc<8.4.0,>=8.3.4 in c:\\users\\dell\\appdata\\local\\programs\\python\\python310\\lib\\site-packages (from Spacy) (8.3.4)\n",
      "Requirement already satisfied: langcodes<4.0.0,>=3.2.0 in c:\\users\\dell\\appdata\\local\\programs\\python\\python310\\lib\\site-packages (from Spacy) (3.5.0)\n",
      "Requirement already satisfied: language-data>=1.2 in c:\\users\\dell\\appdata\\local\\programs\\python\\python310\\lib\\site-packages (from langcodes<4.0.0,>=3.2.0->Spacy) (1.3.0)\n",
      "Requirement already satisfied: pydantic-core==2.27.2 in c:\\users\\dell\\appdata\\local\\programs\\python\\python310\\lib\\site-packages (from pydantic!=1.8,!=1.8.1,<3.0.0,>=1.7.4->Spacy) (2.27.2)\n",
      "Requirement already satisfied: annotated-types>=0.6.0 in c:\\users\\dell\\appdata\\local\\programs\\python\\python310\\lib\\site-packages (from pydantic!=1.8,!=1.8.1,<3.0.0,>=1.7.4->Spacy) (0.7.0)\n",
      "Requirement already satisfied: typing-extensions>=4.12.2 in c:\\users\\dell\\appdata\\local\\programs\\python\\python310\\lib\\site-packages (from pydantic!=1.8,!=1.8.1,<3.0.0,>=1.7.4->Spacy) (4.12.2)\n",
      "Requirement already satisfied: charset-normalizer<4,>=2 in c:\\users\\dell\\appdata\\local\\programs\\python\\python310\\lib\\site-packages (from requests<3.0.0,>=2.13.0->Spacy) (3.4.0)\n",
      "Requirement already satisfied: certifi>=2017.4.17 in c:\\users\\dell\\appdata\\local\\programs\\python\\python310\\lib\\site-packages (from requests<3.0.0,>=2.13.0->Spacy) (2024.8.30)\n",
      "Requirement already satisfied: idna<4,>=2.5 in c:\\users\\dell\\appdata\\local\\programs\\python\\python310\\lib\\site-packages (from requests<3.0.0,>=2.13.0->Spacy) (3.10)\n",
      "Requirement already satisfied: urllib3<3,>=1.21.1 in c:\\users\\dell\\appdata\\local\\programs\\python\\python310\\lib\\site-packages (from requests<3.0.0,>=2.13.0->Spacy) (2.2.3)\n",
      "Requirement already satisfied: blis<1.3.0,>=1.2.0 in c:\\users\\dell\\appdata\\local\\programs\\python\\python310\\lib\\site-packages (from thinc<8.4.0,>=8.3.4->Spacy) (1.2.0)\n",
      "Requirement already satisfied: confection<1.0.0,>=0.0.1 in c:\\users\\dell\\appdata\\local\\programs\\python\\python310\\lib\\site-packages (from thinc<8.4.0,>=8.3.4->Spacy) (0.1.5)\n",
      "Requirement already satisfied: colorama in c:\\users\\dell\\appdata\\local\\programs\\python\\python310\\lib\\site-packages (from tqdm<5.0.0,>=4.38.0->Spacy) (0.4.6)\n",
      "Requirement already satisfied: click>=8.0.0 in c:\\users\\dell\\appdata\\local\\programs\\python\\python310\\lib\\site-packages (from typer<1.0.0,>=0.3.0->Spacy) (8.1.8)\n",
      "Requirement already satisfied: rich>=10.11.0 in c:\\users\\dell\\appdata\\local\\programs\\python\\python310\\lib\\site-packages (from typer<1.0.0,>=0.3.0->Spacy) (13.9.4)\n",
      "Requirement already satisfied: shellingham>=1.3.0 in c:\\users\\dell\\appdata\\local\\programs\\python\\python310\\lib\\site-packages (from typer<1.0.0,>=0.3.0->Spacy) (1.5.4)\n",
      "Requirement already satisfied: cloudpathlib<1.0.0,>=0.7.0 in c:\\users\\dell\\appdata\\local\\programs\\python\\python310\\lib\\site-packages (from weasel<0.5.0,>=0.1.0->Spacy) (0.20.0)\n",
      "Requirement already satisfied: smart-open<8.0.0,>=5.2.1 in c:\\users\\dell\\appdata\\local\\programs\\python\\python310\\lib\\site-packages (from weasel<0.5.0,>=0.1.0->Spacy) (7.1.0)\n",
      "Requirement already satisfied: MarkupSafe>=2.0 in c:\\users\\dell\\appdata\\local\\programs\\python\\python310\\lib\\site-packages (from jinja2->Spacy) (3.0.2)\n",
      "Requirement already satisfied: marisa-trie>=1.1.0 in c:\\users\\dell\\appdata\\local\\programs\\python\\python310\\lib\\site-packages (from language-data>=1.2->langcodes<4.0.0,>=3.2.0->Spacy) (1.2.1)\n",
      "Requirement already satisfied: pygments<3.0.0,>=2.13.0 in c:\\users\\dell\\appdata\\local\\programs\\python\\python310\\lib\\site-packages (from rich>=10.11.0->typer<1.0.0,>=0.3.0->Spacy) (2.18.0)\n",
      "Requirement already satisfied: markdown-it-py>=2.2.0 in c:\\users\\dell\\appdata\\local\\programs\\python\\python310\\lib\\site-packages (from rich>=10.11.0->typer<1.0.0,>=0.3.0->Spacy) (3.0.0)\n",
      "Requirement already satisfied: wrapt in c:\\users\\dell\\appdata\\local\\programs\\python\\python310\\lib\\site-packages (from smart-open<8.0.0,>=5.2.1->weasel<0.5.0,>=0.1.0->Spacy) (1.17.2)\n",
      "Requirement already satisfied: mdurl~=0.1 in c:\\users\\dell\\appdata\\local\\programs\\python\\python310\\lib\\site-packages (from markdown-it-py>=2.2.0->rich>=10.11.0->typer<1.0.0,>=0.3.0->Spacy) (0.1.2)\n"
     ]
    },
    {
     "name": "stderr",
     "output_type": "stream",
     "text": [
      "WARNING: Ignoring invalid distribution -umpy (c:\\users\\dell\\appdata\\local\\programs\\python\\python310\\lib\\site-packages)\n",
      "WARNING: Ignoring invalid distribution -umpy (c:\\users\\dell\\appdata\\local\\programs\\python\\python310\\lib\\site-packages)\n",
      "WARNING: Ignoring invalid distribution -umpy (c:\\users\\dell\\appdata\\local\\programs\\python\\python310\\lib\\site-packages)\n",
      "WARNING: Ignoring invalid distribution -umpy (c:\\users\\dell\\appdata\\local\\programs\\python\\python310\\lib\\site-packages)\n",
      "WARNING: Ignoring invalid distribution -umpy (c:\\users\\dell\\appdata\\local\\programs\\python\\python310\\lib\\site-packages)\n",
      "WARNING: Ignoring invalid distribution -umpy (c:\\users\\dell\\appdata\\local\\programs\\python\\python310\\lib\\site-packages)\n",
      "\n",
      "[notice] A new release of pip available: 22.3.1 -> 25.0.1\n",
      "[notice] To update, run: python.exe -m pip install --upgrade pip\n"
     ]
    }
   ],
   "source": [
    "!pip install Spacy"
   ]
  },
  {
   "cell_type": "code",
   "execution_count": 19,
   "id": "2b3c2f4e-ae9e-476e-9cfb-d9c76e4808f0",
   "metadata": {},
   "outputs": [],
   "source": [
    "import pandas as pd\n",
    "import numpy as np\n",
    "import nltk\n",
    "import spacy"
   ]
  },
  {
   "cell_type": "code",
   "execution_count": 4,
   "id": "c50273f6-d371-4d2f-99f4-c6e27f3ac7b1",
   "metadata": {},
   "outputs": [
    {
     "data": {
      "text/html": [
       "<div>\n",
       "<style scoped>\n",
       "    .dataframe tbody tr th:only-of-type {\n",
       "        vertical-align: middle;\n",
       "    }\n",
       "\n",
       "    .dataframe tbody tr th {\n",
       "        vertical-align: top;\n",
       "    }\n",
       "\n",
       "    .dataframe thead th {\n",
       "        text-align: right;\n",
       "    }\n",
       "</style>\n",
       "<table border=\"1\" class=\"dataframe\">\n",
       "  <thead>\n",
       "    <tr style=\"text-align: right;\">\n",
       "      <th></th>\n",
       "      <th>Unnamed: 0</th>\n",
       "      <th>author</th>\n",
       "      <th>statement</th>\n",
       "      <th>source</th>\n",
       "      <th>date</th>\n",
       "      <th>target</th>\n",
       "      <th>BinaryTarget</th>\n",
       "      <th>BinaryNumTarget</th>\n",
       "    </tr>\n",
       "  </thead>\n",
       "  <tbody>\n",
       "    <tr>\n",
       "      <th>0</th>\n",
       "      <td>0</td>\n",
       "      <td>Kwasi Gyamfi</td>\n",
       "      <td>\"Samsung drops out of $1 billion advertising c...</td>\n",
       "      <td>Facebook posts</td>\n",
       "      <td>• August 2,</td>\n",
       "      <td>FALSE</td>\n",
       "      <td>FAKE</td>\n",
       "      <td>0</td>\n",
       "    </tr>\n",
       "    <tr>\n",
       "      <th>1</th>\n",
       "      <td>1</td>\n",
       "      <td>Marta Campabadal</td>\n",
       "      <td>\"Mark Zuckerberg, CEO de Meta, ha retirado la ...</td>\n",
       "      <td>Facebook posts</td>\n",
       "      <td>• August 2,</td>\n",
       "      <td>FALSE</td>\n",
       "      <td>FAKE</td>\n",
       "      <td>0</td>\n",
       "    </tr>\n",
       "    <tr>\n",
       "      <th>2</th>\n",
       "      <td>2</td>\n",
       "      <td>Maria Briceño</td>\n",
       "      <td>El 31 de julio de 2024 confirmaron el fallecim...</td>\n",
       "      <td>Facebook posts</td>\n",
       "      <td>August 2, 2024</td>\n",
       "      <td>FALSE</td>\n",
       "      <td>FAKE</td>\n",
       "      <td>0</td>\n",
       "    </tr>\n",
       "    <tr>\n",
       "      <th>3</th>\n",
       "      <td>3</td>\n",
       "      <td>Jill Terreri</td>\n",
       "      <td>Biden Executive Order 14019 “requires our taxp...</td>\n",
       "      <td>Claudia Tenney</td>\n",
       "      <td>• August 2,</td>\n",
       "      <td>pants-fire</td>\n",
       "      <td>REAL</td>\n",
       "      <td>1</td>\n",
       "    </tr>\n",
       "    <tr>\n",
       "      <th>4</th>\n",
       "      <td>4</td>\n",
       "      <td>Sara Swann</td>\n",
       "      <td>Vice President Kamala Harris “was born in Cana...</td>\n",
       "      <td>Threads posts</td>\n",
       "      <td>August 1, 2024</td>\n",
       "      <td>pants-fire</td>\n",
       "      <td>REAL</td>\n",
       "      <td>1</td>\n",
       "    </tr>\n",
       "  </tbody>\n",
       "</table>\n",
       "</div>"
      ],
      "text/plain": [
       "   Unnamed: 0            author  \\\n",
       "0           0      Kwasi Gyamfi   \n",
       "1           1  Marta Campabadal   \n",
       "2           2     Maria Briceño   \n",
       "3           3      Jill Terreri   \n",
       "4           4        Sara Swann   \n",
       "\n",
       "                                           statement          source  \\\n",
       "0  \"Samsung drops out of $1 billion advertising c...  Facebook posts   \n",
       "1  \"Mark Zuckerberg, CEO de Meta, ha retirado la ...  Facebook posts   \n",
       "2  El 31 de julio de 2024 confirmaron el fallecim...  Facebook posts   \n",
       "3  Biden Executive Order 14019 “requires our taxp...  Claudia Tenney   \n",
       "4  Vice President Kamala Harris “was born in Cana...   Threads posts   \n",
       "\n",
       "             date      target BinaryTarget  BinaryNumTarget  \n",
       "0     • August 2,       FALSE         FAKE                0  \n",
       "1     • August 2,       FALSE         FAKE                0  \n",
       "2  August 2, 2024       FALSE         FAKE                0  \n",
       "3     • August 2,  pants-fire         REAL                1  \n",
       "4  August 1, 2024  pants-fire         REAL                1  "
      ]
     },
     "execution_count": 4,
     "metadata": {},
     "output_type": "execute_result"
    }
   ],
   "source": [
    "df=pd.read_csv(\"Scrap6000.csv\")\n",
    "df.head()"
   ]
  },
  {
   "cell_type": "code",
   "execution_count": 5,
   "id": "20a590d3-33a7-4d1d-b857-54bd89ea9ea9",
   "metadata": {},
   "outputs": [
    {
     "name": "stdout",
     "output_type": "stream",
     "text": [
      "<class 'pandas.core.frame.DataFrame'>\n",
      "RangeIndex: 5940 entries, 0 to 5939\n",
      "Data columns (total 8 columns):\n",
      " #   Column           Non-Null Count  Dtype \n",
      "---  ------           --------------  ----- \n",
      " 0   Unnamed: 0       5940 non-null   int64 \n",
      " 1   author           5940 non-null   object\n",
      " 2   statement        5940 non-null   object\n",
      " 3   source           5940 non-null   object\n",
      " 4   date             5940 non-null   object\n",
      " 5   target           5940 non-null   object\n",
      " 6   BinaryTarget     5940 non-null   object\n",
      " 7   BinaryNumTarget  5940 non-null   int64 \n",
      "dtypes: int64(2), object(6)\n",
      "memory usage: 371.4+ KB\n"
     ]
    }
   ],
   "source": [
    "df.info()"
   ]
  },
  {
   "cell_type": "code",
   "execution_count": 23,
   "id": "079a3b4a-3c1b-475c-9266-d212410eb602",
   "metadata": {},
   "outputs": [
    {
     "data": {
      "text/plain": [
       "author             0\n",
       "statement          0\n",
       "source             0\n",
       "date               0\n",
       "target             0\n",
       "BinaryTarget       0\n",
       "BinaryNumTarget    0\n",
       "dtype: int64"
      ]
     },
     "execution_count": 23,
     "metadata": {},
     "output_type": "execute_result"
    }
   ],
   "source": [
    "df.isnull().sum()"
   ]
  },
  {
   "cell_type": "code",
   "execution_count": 12,
   "id": "1d511e1b-523a-4880-b7f6-c8dd0fef01f1",
   "metadata": {},
   "outputs": [],
   "source": [
    "df.drop(columns=\"Unnamed: 0\",inplace=True)"
   ]
  },
  {
   "cell_type": "code",
   "execution_count": 13,
   "id": "27119271-ac6d-4f17-8692-74b68c440a93",
   "metadata": {},
   "outputs": [
    {
     "data": {
      "text/html": [
       "<div>\n",
       "<style scoped>\n",
       "    .dataframe tbody tr th:only-of-type {\n",
       "        vertical-align: middle;\n",
       "    }\n",
       "\n",
       "    .dataframe tbody tr th {\n",
       "        vertical-align: top;\n",
       "    }\n",
       "\n",
       "    .dataframe thead th {\n",
       "        text-align: right;\n",
       "    }\n",
       "</style>\n",
       "<table border=\"1\" class=\"dataframe\">\n",
       "  <thead>\n",
       "    <tr style=\"text-align: right;\">\n",
       "      <th></th>\n",
       "      <th>author</th>\n",
       "      <th>statement</th>\n",
       "      <th>source</th>\n",
       "      <th>date</th>\n",
       "      <th>target</th>\n",
       "      <th>BinaryTarget</th>\n",
       "      <th>BinaryNumTarget</th>\n",
       "    </tr>\n",
       "  </thead>\n",
       "  <tbody>\n",
       "    <tr>\n",
       "      <th>0</th>\n",
       "      <td>Kwasi Gyamfi</td>\n",
       "      <td>\"Samsung drops out of $1 billion advertising c...</td>\n",
       "      <td>Facebook posts</td>\n",
       "      <td>• August 2,</td>\n",
       "      <td>FALSE</td>\n",
       "      <td>FAKE</td>\n",
       "      <td>0</td>\n",
       "    </tr>\n",
       "    <tr>\n",
       "      <th>1</th>\n",
       "      <td>Marta Campabadal</td>\n",
       "      <td>\"Mark Zuckerberg, CEO de Meta, ha retirado la ...</td>\n",
       "      <td>Facebook posts</td>\n",
       "      <td>• August 2,</td>\n",
       "      <td>FALSE</td>\n",
       "      <td>FAKE</td>\n",
       "      <td>0</td>\n",
       "    </tr>\n",
       "    <tr>\n",
       "      <th>2</th>\n",
       "      <td>Maria Briceño</td>\n",
       "      <td>El 31 de julio de 2024 confirmaron el fallecim...</td>\n",
       "      <td>Facebook posts</td>\n",
       "      <td>August 2, 2024</td>\n",
       "      <td>FALSE</td>\n",
       "      <td>FAKE</td>\n",
       "      <td>0</td>\n",
       "    </tr>\n",
       "    <tr>\n",
       "      <th>3</th>\n",
       "      <td>Jill Terreri</td>\n",
       "      <td>Biden Executive Order 14019 “requires our taxp...</td>\n",
       "      <td>Claudia Tenney</td>\n",
       "      <td>• August 2,</td>\n",
       "      <td>pants-fire</td>\n",
       "      <td>REAL</td>\n",
       "      <td>1</td>\n",
       "    </tr>\n",
       "    <tr>\n",
       "      <th>4</th>\n",
       "      <td>Sara Swann</td>\n",
       "      <td>Vice President Kamala Harris “was born in Cana...</td>\n",
       "      <td>Threads posts</td>\n",
       "      <td>August 1, 2024</td>\n",
       "      <td>pants-fire</td>\n",
       "      <td>REAL</td>\n",
       "      <td>1</td>\n",
       "    </tr>\n",
       "  </tbody>\n",
       "</table>\n",
       "</div>"
      ],
      "text/plain": [
       "             author                                          statement  \\\n",
       "0      Kwasi Gyamfi  \"Samsung drops out of $1 billion advertising c...   \n",
       "1  Marta Campabadal  \"Mark Zuckerberg, CEO de Meta, ha retirado la ...   \n",
       "2     Maria Briceño  El 31 de julio de 2024 confirmaron el fallecim...   \n",
       "3      Jill Terreri  Biden Executive Order 14019 “requires our taxp...   \n",
       "4        Sara Swann  Vice President Kamala Harris “was born in Cana...   \n",
       "\n",
       "           source            date      target BinaryTarget  BinaryNumTarget  \n",
       "0  Facebook posts     • August 2,       FALSE         FAKE                0  \n",
       "1  Facebook posts     • August 2,       FALSE         FAKE                0  \n",
       "2  Facebook posts  August 2, 2024       FALSE         FAKE                0  \n",
       "3  Claudia Tenney     • August 2,  pants-fire         REAL                1  \n",
       "4   Threads posts  August 1, 2024  pants-fire         REAL                1  "
      ]
     },
     "execution_count": 13,
     "metadata": {},
     "output_type": "execute_result"
    }
   ],
   "source": [
    "df.head()"
   ]
  },
  {
   "cell_type": "code",
   "execution_count": 14,
   "id": "6ae5d477-7bb5-4018-91e9-0be4124056a6",
   "metadata": {},
   "outputs": [
    {
     "data": {
      "text/plain": [
       "target\n",
       "FALSE          3275\n",
       "pants-fire     1033\n",
       "barely-true     621\n",
       "half-true       380\n",
       "mostly-true     288\n",
       "TRUE            166\n",
       "REAL            144\n",
       "full-flop        21\n",
       "half-flip        11\n",
       "no-flip           1\n",
       "Name: count, dtype: int64"
      ]
     },
     "execution_count": 14,
     "metadata": {},
     "output_type": "execute_result"
    }
   ],
   "source": [
    "df[\"target\"].value_counts()"
   ]
  },
  {
   "cell_type": "code",
   "execution_count": 15,
   "id": "220a2234-9e99-4dce-a0c9-b7d9418e4306",
   "metadata": {},
   "outputs": [
    {
     "data": {
      "text/plain": [
       "BinaryTarget\n",
       "FAKE    3321\n",
       "REAL    2619\n",
       "Name: count, dtype: int64"
      ]
     },
     "execution_count": 15,
     "metadata": {},
     "output_type": "execute_result"
    }
   ],
   "source": [
    "df[\"BinaryTarget\"].value_counts()"
   ]
  },
  {
   "cell_type": "markdown",
   "id": "fac4cee7-3424-4476-ac9a-4e655d209b91",
   "metadata": {},
   "source": [
    "### Task 1:\n",
    "####  1. Text Preprocessing:\n",
    "#####   Perform tokenization, stemming, and lemmatization on the statement feature.\n",
    "#####   Store tokenized, stemmed, and lemmatized versions in separate columns in the DataFrame.\n"
   ]
  },
  {
   "cell_type": "code",
   "execution_count": 38,
   "id": "5d74ac2f-6630-4f5f-bb33-7cc4efac11ea",
   "metadata": {},
   "outputs": [],
   "source": [
    "from nltk.stem import PorterStemmer,WordNetLemmatizer\n",
    "from nltk.tokenize import word_tokenize,sent_tokenize\n",
    "stm=PorterStemmer()\n",
    "lem=WordNetLemmatizer()"
   ]
  },
  {
   "cell_type": "code",
   "execution_count": 41,
   "id": "5865fd4b-fc91-48cc-aceb-450f9ed995c9",
   "metadata": {},
   "outputs": [],
   "source": [
    "def process_text(text):\n",
    "    tokens = word_tokenize(text)  \n",
    "    stemmed = [stm.stem(word) for word in tokens] \n",
    "    lemmatized = [lem.lemmatize(word) for word in tokens]\n",
    "    return tokens, stemmed, lemmatized\n",
    "\n",
    "\n",
    "df['tokens'], df['stemmed'], df['lemmatized'] = zip(*df['statement'].apply(process_text))"
   ]
  },
  {
   "cell_type": "code",
   "execution_count": 44,
   "id": "9452bd76-9ac6-424a-a337-81ffda3808d6",
   "metadata": {},
   "outputs": [
    {
     "data": {
      "text/html": [
       "<div>\n",
       "<style scoped>\n",
       "    .dataframe tbody tr th:only-of-type {\n",
       "        vertical-align: middle;\n",
       "    }\n",
       "\n",
       "    .dataframe tbody tr th {\n",
       "        vertical-align: top;\n",
       "    }\n",
       "\n",
       "    .dataframe thead th {\n",
       "        text-align: right;\n",
       "    }\n",
       "</style>\n",
       "<table border=\"1\" class=\"dataframe\">\n",
       "  <thead>\n",
       "    <tr style=\"text-align: right;\">\n",
       "      <th></th>\n",
       "      <th>author</th>\n",
       "      <th>statement</th>\n",
       "      <th>source</th>\n",
       "      <th>date</th>\n",
       "      <th>target</th>\n",
       "      <th>BinaryTarget</th>\n",
       "      <th>BinaryNumTarget</th>\n",
       "      <th>tokens</th>\n",
       "      <th>stemmed</th>\n",
       "      <th>lemmatized</th>\n",
       "    </tr>\n",
       "  </thead>\n",
       "  <tbody>\n",
       "    <tr>\n",
       "      <th>0</th>\n",
       "      <td>Kwasi Gyamfi</td>\n",
       "      <td>\"Samsung drops out of $1 billion advertising c...</td>\n",
       "      <td>Facebook posts</td>\n",
       "      <td>• August 2,</td>\n",
       "      <td>FALSE</td>\n",
       "      <td>FAKE</td>\n",
       "      <td>0</td>\n",
       "      <td>[``, Samsung, drops, out, of, $, 1, billion, a...</td>\n",
       "      <td>[``, samsung, drop, out, of, $, 1, billion, ad...</td>\n",
       "      <td>[``, Samsung, drop, out, of, $, 1, billion, ad...</td>\n",
       "    </tr>\n",
       "    <tr>\n",
       "      <th>1</th>\n",
       "      <td>Marta Campabadal</td>\n",
       "      <td>\"Mark Zuckerberg, CEO de Meta, ha retirado la ...</td>\n",
       "      <td>Facebook posts</td>\n",
       "      <td>• August 2,</td>\n",
       "      <td>FALSE</td>\n",
       "      <td>FAKE</td>\n",
       "      <td>0</td>\n",
       "      <td>[``, Mark, Zuckerberg, ,, CEO, de, Meta, ,, ha...</td>\n",
       "      <td>[``, mark, zuckerberg, ,, ceo, de, meta, ,, ha...</td>\n",
       "      <td>[``, Mark, Zuckerberg, ,, CEO, de, Meta, ,, ha...</td>\n",
       "    </tr>\n",
       "    <tr>\n",
       "      <th>2</th>\n",
       "      <td>Maria Briceño</td>\n",
       "      <td>El 31 de julio de 2024 confirmaron el fallecim...</td>\n",
       "      <td>Facebook posts</td>\n",
       "      <td>August 2, 2024</td>\n",
       "      <td>FALSE</td>\n",
       "      <td>FAKE</td>\n",
       "      <td>0</td>\n",
       "      <td>[El, 31, de, julio, de, 2024, confirmaron, el,...</td>\n",
       "      <td>[el, 31, de, julio, de, 2024, confirmaron, el,...</td>\n",
       "      <td>[El, 31, de, julio, de, 2024, confirmaron, el,...</td>\n",
       "    </tr>\n",
       "    <tr>\n",
       "      <th>3</th>\n",
       "      <td>Jill Terreri</td>\n",
       "      <td>Biden Executive Order 14019 “requires our taxp...</td>\n",
       "      <td>Claudia Tenney</td>\n",
       "      <td>• August 2,</td>\n",
       "      <td>pants-fire</td>\n",
       "      <td>REAL</td>\n",
       "      <td>1</td>\n",
       "      <td>[Biden, Executive, Order, 14019, “, requires, ...</td>\n",
       "      <td>[biden, execut, order, 14019, “, requir, our, ...</td>\n",
       "      <td>[Biden, Executive, Order, 14019, “, requires, ...</td>\n",
       "    </tr>\n",
       "    <tr>\n",
       "      <th>4</th>\n",
       "      <td>Sara Swann</td>\n",
       "      <td>Vice President Kamala Harris “was born in Cana...</td>\n",
       "      <td>Threads posts</td>\n",
       "      <td>August 1, 2024</td>\n",
       "      <td>pants-fire</td>\n",
       "      <td>REAL</td>\n",
       "      <td>1</td>\n",
       "      <td>[Vice, President, Kamala, Harris, “, was, born...</td>\n",
       "      <td>[vice, presid, kamala, harri, “, wa, born, in,...</td>\n",
       "      <td>[Vice, President, Kamala, Harris, “, wa, born,...</td>\n",
       "    </tr>\n",
       "  </tbody>\n",
       "</table>\n",
       "</div>"
      ],
      "text/plain": [
       "             author                                          statement  \\\n",
       "0      Kwasi Gyamfi  \"Samsung drops out of $1 billion advertising c...   \n",
       "1  Marta Campabadal  \"Mark Zuckerberg, CEO de Meta, ha retirado la ...   \n",
       "2     Maria Briceño  El 31 de julio de 2024 confirmaron el fallecim...   \n",
       "3      Jill Terreri  Biden Executive Order 14019 “requires our taxp...   \n",
       "4        Sara Swann  Vice President Kamala Harris “was born in Cana...   \n",
       "\n",
       "           source            date      target BinaryTarget  BinaryNumTarget  \\\n",
       "0  Facebook posts     • August 2,       FALSE         FAKE                0   \n",
       "1  Facebook posts     • August 2,       FALSE         FAKE                0   \n",
       "2  Facebook posts  August 2, 2024       FALSE         FAKE                0   \n",
       "3  Claudia Tenney     • August 2,  pants-fire         REAL                1   \n",
       "4   Threads posts  August 1, 2024  pants-fire         REAL                1   \n",
       "\n",
       "                                              tokens  \\\n",
       "0  [``, Samsung, drops, out, of, $, 1, billion, a...   \n",
       "1  [``, Mark, Zuckerberg, ,, CEO, de, Meta, ,, ha...   \n",
       "2  [El, 31, de, julio, de, 2024, confirmaron, el,...   \n",
       "3  [Biden, Executive, Order, 14019, “, requires, ...   \n",
       "4  [Vice, President, Kamala, Harris, “, was, born...   \n",
       "\n",
       "                                             stemmed  \\\n",
       "0  [``, samsung, drop, out, of, $, 1, billion, ad...   \n",
       "1  [``, mark, zuckerberg, ,, ceo, de, meta, ,, ha...   \n",
       "2  [el, 31, de, julio, de, 2024, confirmaron, el,...   \n",
       "3  [biden, execut, order, 14019, “, requir, our, ...   \n",
       "4  [vice, presid, kamala, harri, “, wa, born, in,...   \n",
       "\n",
       "                                          lemmatized  \n",
       "0  [``, Samsung, drop, out, of, $, 1, billion, ad...  \n",
       "1  [``, Mark, Zuckerberg, ,, CEO, de, Meta, ,, ha...  \n",
       "2  [El, 31, de, julio, de, 2024, confirmaron, el,...  \n",
       "3  [Biden, Executive, Order, 14019, “, requires, ...  \n",
       "4  [Vice, President, Kamala, Harris, “, wa, born,...  "
      ]
     },
     "execution_count": 44,
     "metadata": {},
     "output_type": "execute_result"
    }
   ],
   "source": [
    "df.head()"
   ]
  },
  {
   "cell_type": "markdown",
   "id": "a5f744e9-741f-47b7-aa52-e8d1e325cf1e",
   "metadata": {},
   "source": [
    "### 2. Extract unigrams, bigrams, and trigrams from the statement feature.\n",
    "#### \tDisplay them separately in different columns of the DataFrame."
   ]
  },
  {
   "cell_type": "code",
   "execution_count": 47,
   "id": "967ac13c-130b-4331-b008-a2b86ffe36af",
   "metadata": {},
   "outputs": [],
   "source": [
    "def extract_ngrams(text, n):\n",
    "    tokens = word_tokenize(text)\n",
    "    return list(nltk.ngrams(tokens, n))\n",
    "\n",
    "df['unigrams'] = df['statement'].apply(lambda x: extract_ngrams(x, 1))\n",
    "df['bigrams'] = df['statement'].apply(lambda x: extract_ngrams(x, 2))\n",
    "df['trigrams'] = df['statement'].apply(lambda x: extract_ngrams(x, 3))"
   ]
  },
  {
   "cell_type": "code",
   "execution_count": 49,
   "id": "687f7aca-0462-4409-af41-bfe2ff95597b",
   "metadata": {},
   "outputs": [
    {
     "data": {
      "text/html": [
       "<div>\n",
       "<style scoped>\n",
       "    .dataframe tbody tr th:only-of-type {\n",
       "        vertical-align: middle;\n",
       "    }\n",
       "\n",
       "    .dataframe tbody tr th {\n",
       "        vertical-align: top;\n",
       "    }\n",
       "\n",
       "    .dataframe thead th {\n",
       "        text-align: right;\n",
       "    }\n",
       "</style>\n",
       "<table border=\"1\" class=\"dataframe\">\n",
       "  <thead>\n",
       "    <tr style=\"text-align: right;\">\n",
       "      <th></th>\n",
       "      <th>tokens</th>\n",
       "      <th>bigrams</th>\n",
       "      <th>trigrams</th>\n",
       "    </tr>\n",
       "  </thead>\n",
       "  <tbody>\n",
       "    <tr>\n",
       "      <th>0</th>\n",
       "      <td>[``, Samsung, drops, out, of, $, 1, billion, a...</td>\n",
       "      <td>[(``, Samsung), (Samsung, drops), (drops, out)...</td>\n",
       "      <td>[(``, Samsung, drops), (Samsung, drops, out), ...</td>\n",
       "    </tr>\n",
       "    <tr>\n",
       "      <th>1</th>\n",
       "      <td>[``, Mark, Zuckerberg, ,, CEO, de, Meta, ,, ha...</td>\n",
       "      <td>[(``, Mark), (Mark, Zuckerberg), (Zuckerberg, ...</td>\n",
       "      <td>[(``, Mark, Zuckerberg), (Mark, Zuckerberg, ,)...</td>\n",
       "    </tr>\n",
       "    <tr>\n",
       "      <th>2</th>\n",
       "      <td>[El, 31, de, julio, de, 2024, confirmaron, el,...</td>\n",
       "      <td>[(El, 31), (31, de), (de, julio), (julio, de),...</td>\n",
       "      <td>[(El, 31, de), (31, de, julio), (de, julio, de...</td>\n",
       "    </tr>\n",
       "    <tr>\n",
       "      <th>3</th>\n",
       "      <td>[Biden, Executive, Order, 14019, “, requires, ...</td>\n",
       "      <td>[(Biden, Executive), (Executive, Order), (Orde...</td>\n",
       "      <td>[(Biden, Executive, Order), (Executive, Order,...</td>\n",
       "    </tr>\n",
       "    <tr>\n",
       "      <th>4</th>\n",
       "      <td>[Vice, President, Kamala, Harris, “, was, born...</td>\n",
       "      <td>[(Vice, President), (President, Kamala), (Kama...</td>\n",
       "      <td>[(Vice, President, Kamala), (President, Kamala...</td>\n",
       "    </tr>\n",
       "  </tbody>\n",
       "</table>\n",
       "</div>"
      ],
      "text/plain": [
       "                                              tokens  \\\n",
       "0  [``, Samsung, drops, out, of, $, 1, billion, a...   \n",
       "1  [``, Mark, Zuckerberg, ,, CEO, de, Meta, ,, ha...   \n",
       "2  [El, 31, de, julio, de, 2024, confirmaron, el,...   \n",
       "3  [Biden, Executive, Order, 14019, “, requires, ...   \n",
       "4  [Vice, President, Kamala, Harris, “, was, born...   \n",
       "\n",
       "                                             bigrams  \\\n",
       "0  [(``, Samsung), (Samsung, drops), (drops, out)...   \n",
       "1  [(``, Mark), (Mark, Zuckerberg), (Zuckerberg, ...   \n",
       "2  [(El, 31), (31, de), (de, julio), (julio, de),...   \n",
       "3  [(Biden, Executive), (Executive, Order), (Orde...   \n",
       "4  [(Vice, President), (President, Kamala), (Kama...   \n",
       "\n",
       "                                            trigrams  \n",
       "0  [(``, Samsung, drops), (Samsung, drops, out), ...  \n",
       "1  [(``, Mark, Zuckerberg), (Mark, Zuckerberg, ,)...  \n",
       "2  [(El, 31, de), (31, de, julio), (de, julio, de...  \n",
       "3  [(Biden, Executive, Order), (Executive, Order,...  \n",
       "4  [(Vice, President, Kamala), (President, Kamala...  "
      ]
     },
     "execution_count": 49,
     "metadata": {},
     "output_type": "execute_result"
    }
   ],
   "source": [
    "df[['tokens', 'bigrams', 'trigrams']].head()"
   ]
  },
  {
   "cell_type": "markdown",
   "id": "0468463a-a35a-45b0-ad28-d7efcb9c7ba7",
   "metadata": {},
   "source": [
    "### 3.\tNamed Entity Recognition (NER):\n",
    "#### \tExtract named entities from the statement feature and store them in a separate column.\n"
   ]
  },
  {
   "cell_type": "code",
   "execution_count": 51,
   "id": "4cd952a0-1b51-47eb-a5f6-cc2b4c1d0b4e",
   "metadata": {},
   "outputs": [],
   "source": [
    "nlp = spacy.load(\"en_core_web_sm\")"
   ]
  },
  {
   "cell_type": "code",
   "execution_count": 52,
   "id": "3420071c-d47e-4cc5-8ee4-0552928c2094",
   "metadata": {},
   "outputs": [],
   "source": [
    "def extract_named_entities(text):\n",
    "    doc = nlp(text)\n",
    "    return [(ent.text, ent.label_) for ent in doc.ents]\n",
    "\n",
    "df['named_entities'] = df['statement'].apply(extract_named_entities)"
   ]
  },
  {
   "cell_type": "code",
   "execution_count": 54,
   "id": "1d47f2ed-be23-4872-88ed-afb544502eca",
   "metadata": {},
   "outputs": [
    {
     "data": {
      "text/plain": [
       "[('Samsung', 'ORG'), ('$1 billion', 'MONEY'), ('Olympics', 'EVENT')]"
      ]
     },
     "execution_count": 54,
     "metadata": {},
     "output_type": "execute_result"
    }
   ],
   "source": [
    "df[\"named_entities\"][0]"
   ]
  },
  {
   "cell_type": "markdown",
   "id": "40d99169-5a5d-49a7-8c14-c910d5c3101e",
   "metadata": {},
   "source": [
    "#### rule based NER"
   ]
  },
  {
   "cell_type": "code",
   "execution_count": 56,
   "id": "78af8ecb-4f94-43a1-9408-ba18f85de701",
   "metadata": {},
   "outputs": [],
   "source": [
    "import re"
   ]
  },
  {
   "cell_type": "code",
   "execution_count": 68,
   "id": "de1b05b3-cc32-4cbf-98c0-eb66966ba4e1",
   "metadata": {},
   "outputs": [],
   "source": [
    "pattern_dict = {\n",
    "    'ORG': r'\\b(Google|Microsoft|Facebook|Instagram|Meta)\\b', \n",
    "    'PERSON': r'\\b([A-Z][a-z]+)\\b'  \n",
    "}\n",
    "\n",
    "def rule_based_ner(text):\n",
    "    entities = []\n",
    "    for label, pattern in pattern_dict.items():\n",
    "        matches = re.findall(pattern, text)\n",
    "        if label == \"PERSON\":\n",
    "            matches = [match for match in matches if match not in pattern_dict['ORG']]\n",
    "        entities.extend([(match, label) for match in matches])\n",
    "    return entities\n",
    "\n",
    "df['rule_based_entities'] = df['statement'].apply(rule_based_ner)\n"
   ]
  },
  {
   "cell_type": "code",
   "execution_count": 69,
   "id": "a805a293-da31-41d4-b937-e44b8ad84177",
   "metadata": {},
   "outputs": [
    {
     "data": {
      "text/plain": [
       "[('Meta', 'ORG'),\n",
       " ('Facebook', 'ORG'),\n",
       " ('Instagram', 'ORG'),\n",
       " ('Mark', 'PERSON'),\n",
       " ('Zuckerberg', 'PERSON'),\n",
       " ('Maduro', 'PERSON')]"
      ]
     },
     "execution_count": 69,
     "metadata": {},
     "output_type": "execute_result"
    }
   ],
   "source": [
    "df['rule_based_entities'][1]"
   ]
  },
  {
   "cell_type": "markdown",
   "id": "ff90ff02-57d5-4c75-a39f-14d6e13cd565",
   "metadata": {},
   "source": [
    "### 4.\tAuthor Name Extraction & Visualization:\n",
    "#### Extract author names from the dataset.\n",
    "#### Use spaCy's displacy to visualize the extracted author names.\n"
   ]
  },
  {
   "cell_type": "code",
   "execution_count": 74,
   "id": "c9d692fe-5193-4e8c-baa6-d12320416698",
   "metadata": {},
   "outputs": [
    {
     "name": "stderr",
     "output_type": "stream",
     "text": [
      "[nltk_data] Downloading package averaged_perceptron_tagger to\n",
      "[nltk_data]     C:\\Users\\Dell\\AppData\\Roaming\\nltk_data...\n",
      "[nltk_data]   Package averaged_perceptron_tagger is already up-to-\n",
      "[nltk_data]       date!\n"
     ]
    }
   ],
   "source": [
    "import matplotlib.pyplot as plt\n",
    "nltk.download('averaged_perceptron_tagger')\n",
    "from collections import Counter"
   ]
  },
  {
   "cell_type": "code",
   "execution_count": 79,
   "id": "0bcab4d8-95da-4c50-a511-b15162a40e05",
   "metadata": {},
   "outputs": [
    {
     "data": {
      "image/png": "[encoded data removed]",
      "text/plain": [
       "<Figure size 1200x600 with 1 Axes>"
      ]
     },
     "metadata": {},
     "output_type": "display_data"
    }
   ],
   "source": [
    "# Count occurrences of author names\n",
    "author_counts = Counter([name for sublist in df['author'] for name in sublist])\n",
    "\n",
    "# Get top 20 most frequent authors\n",
    "top_authors = author_counts.most_common(20)\n",
    "\n",
    "# Plot Author Name Frequency\n",
    "plt.figure(figsize=(12,6))\n",
    "plt.bar([name[0] for name in top_authors], [name[1] for name in top_authors], color='purple')\n",
    "plt.xticks(rotation=45, ha=\"right\")\n",
    "plt.xlabel(\"Author Names\", fontsize=12)\n",
    "plt.ylabel(\"Frequency\", fontsize=12)\n",
    "plt.title(\"Top 20 Author Name Frequency\", fontsize=14)\n",
    "plt.grid(axis='y', linestyle='--', alpha=0.7)\n",
    "plt.show()\n"
   ]
  },
  {
   "cell_type": "markdown",
   "id": "080bfa4a-24ba-4515-b591-9f35bf40d5cc",
   "metadata": {},
   "source": [
    "#### Syntactic Parsing:"
   ]
  },
  {
   "cell_type": "code",
   "execution_count": 81,
   "id": "3f1978c7-1c9c-408c-be26-fa1906350017",
   "metadata": {},
   "outputs": [],
   "source": [
    "from spacy import displacy"
   ]
  },
  {
   "cell_type": "code",
   "execution_count": 82,
   "id": "d8786432-7c90-4810-abbb-2be929fc2cf8",
   "metadata": {},
   "outputs": [
    {
     "data": {
      "text/html": [
       "<span class=\"tex2jax_ignore\"><svg xmlns=\"http://www.w3.org/2000/svg\" xmlns:xlink=\"http://www.w3.org/1999/xlink\" xml:lang=\"en\" id=\"53f3ad8186fd42ecad77a2fc01c05b13-0\" class=\"displacy\" width=\"1100\" height=\"399.5\" direction=\"ltr\" style=\"max-width: none; height: 399.5px; color: #000000; background: #ffffff; font-family: Arial; direction: ltr\">\n",
       "<text class=\"displacy-token\" fill=\"currentColor\" text-anchor=\"middle\" y=\"309.5\">\n",
       "    <tspan class=\"displacy-word\" fill=\"currentColor\" x=\"50\">I</tspan>\n",
       "    <tspan class=\"displacy-tag\" dy=\"2em\" fill=\"currentColor\" x=\"50\">PRON</tspan>\n",
       "</text>\n",
       "\n",
       "<text class=\"displacy-token\" fill=\"currentColor\" text-anchor=\"middle\" y=\"309.5\">\n",
       "    <tspan class=\"displacy-word\" fill=\"currentColor\" x=\"225\">am</tspan>\n",
       "    <tspan class=\"displacy-tag\" dy=\"2em\" fill=\"currentColor\" x=\"225\">AUX</tspan>\n",
       "</text>\n",
       "\n",
       "<text class=\"displacy-token\" fill=\"currentColor\" text-anchor=\"middle\" y=\"309.5\">\n",
       "    <tspan class=\"displacy-word\" fill=\"currentColor\" x=\"400\">a</tspan>\n",
       "    <tspan class=\"displacy-tag\" dy=\"2em\" fill=\"currentColor\" x=\"400\">DET</tspan>\n",
       "</text>\n",
       "\n",
       "<text class=\"displacy-token\" fill=\"currentColor\" text-anchor=\"middle\" y=\"309.5\">\n",
       "    <tspan class=\"displacy-word\" fill=\"currentColor\" x=\"575\">Data</tspan>\n",
       "    <tspan class=\"displacy-tag\" dy=\"2em\" fill=\"currentColor\" x=\"575\">PROPN</tspan>\n",
       "</text>\n",
       "\n",
       "<text class=\"displacy-token\" fill=\"currentColor\" text-anchor=\"middle\" y=\"309.5\">\n",
       "    <tspan class=\"displacy-word\" fill=\"currentColor\" x=\"750\">Science</tspan>\n",
       "    <tspan class=\"displacy-tag\" dy=\"2em\" fill=\"currentColor\" x=\"750\">PROPN</tspan>\n",
       "</text>\n",
       "\n",
       "<text class=\"displacy-token\" fill=\"currentColor\" text-anchor=\"middle\" y=\"309.5\">\n",
       "    <tspan class=\"displacy-word\" fill=\"currentColor\" x=\"925\">student</tspan>\n",
       "    <tspan class=\"displacy-tag\" dy=\"2em\" fill=\"currentColor\" x=\"925\">NOUN</tspan>\n",
       "</text>\n",
       "\n",
       "<g class=\"displacy-arrow\">\n",
       "    <path class=\"displacy-arc\" id=\"arrow-53f3ad8186fd42ecad77a2fc01c05b13-0-0\" stroke-width=\"2px\" d=\"M70,264.5 C70,177.0 215.0,177.0 215.0,264.5\" fill=\"none\" stroke=\"currentColor\"/>\n",
       "    <text dy=\"1.25em\" style=\"font-size: 0.8em; letter-spacing: 1px\">\n",
       "        <textPath xlink:href=\"#arrow-53f3ad8186fd42ecad77a2fc01c05b13-0-0\" class=\"displacy-label\" startOffset=\"50%\" side=\"left\" fill=\"currentColor\" text-anchor=\"middle\">nsubj</textPath>\n",
       "    </text>\n",
       "    <path class=\"displacy-arrowhead\" d=\"M70,266.5 L62,254.5 78,254.5\" fill=\"currentColor\"/>\n",
       "</g>\n",
       "\n",
       "<g class=\"displacy-arrow\">\n",
       "    <path class=\"displacy-arc\" id=\"arrow-53f3ad8186fd42ecad77a2fc01c05b13-0-1\" stroke-width=\"2px\" d=\"M420,264.5 C420,89.5 920.0,89.5 920.0,264.5\" fill=\"none\" stroke=\"currentColor\"/>\n",
       "    <text dy=\"1.25em\" style=\"font-size: 0.8em; letter-spacing: 1px\">\n",
       "        <textPath xlink:href=\"#arrow-53f3ad8186fd42ecad77a2fc01c05b13-0-1\" class=\"displacy-label\" startOffset=\"50%\" side=\"left\" fill=\"currentColor\" text-anchor=\"middle\">det</textPath>\n",
       "    </text>\n",
       "    <path class=\"displacy-arrowhead\" d=\"M420,266.5 L412,254.5 428,254.5\" fill=\"currentColor\"/>\n",
       "</g>\n",
       "\n",
       "<g class=\"displacy-arrow\">\n",
       "    <path class=\"displacy-arc\" id=\"arrow-53f3ad8186fd42ecad77a2fc01c05b13-0-2\" stroke-width=\"2px\" d=\"M595,264.5 C595,177.0 740.0,177.0 740.0,264.5\" fill=\"none\" stroke=\"currentColor\"/>\n",
       "    <text dy=\"1.25em\" style=\"font-size: 0.8em; letter-spacing: 1px\">\n",
       "        <textPath xlink:href=\"#arrow-53f3ad8186fd42ecad77a2fc01c05b13-0-2\" class=\"displacy-label\" startOffset=\"50%\" side=\"left\" fill=\"currentColor\" text-anchor=\"middle\">compound</textPath>\n",
       "    </text>\n",
       "    <path class=\"displacy-arrowhead\" d=\"M595,266.5 L587,254.5 603,254.5\" fill=\"currentColor\"/>\n",
       "</g>\n",
       "\n",
       "<g class=\"displacy-arrow\">\n",
       "    <path class=\"displacy-arc\" id=\"arrow-53f3ad8186fd42ecad77a2fc01c05b13-0-3\" stroke-width=\"2px\" d=\"M770,264.5 C770,177.0 915.0,177.0 915.0,264.5\" fill=\"none\" stroke=\"currentColor\"/>\n",
       "    <text dy=\"1.25em\" style=\"font-size: 0.8em; letter-spacing: 1px\">\n",
       "        <textPath xlink:href=\"#arrow-53f3ad8186fd42ecad77a2fc01c05b13-0-3\" class=\"displacy-label\" startOffset=\"50%\" side=\"left\" fill=\"currentColor\" text-anchor=\"middle\">compound</textPath>\n",
       "    </text>\n",
       "    <path class=\"displacy-arrowhead\" d=\"M770,266.5 L762,254.5 778,254.5\" fill=\"currentColor\"/>\n",
       "</g>\n",
       "\n",
       "<g class=\"displacy-arrow\">\n",
       "    <path class=\"displacy-arc\" id=\"arrow-53f3ad8186fd42ecad77a2fc01c05b13-0-4\" stroke-width=\"2px\" d=\"M245,264.5 C245,2.0 925.0,2.0 925.0,264.5\" fill=\"none\" stroke=\"currentColor\"/>\n",
       "    <text dy=\"1.25em\" style=\"font-size: 0.8em; letter-spacing: 1px\">\n",
       "        <textPath xlink:href=\"#arrow-53f3ad8186fd42ecad77a2fc01c05b13-0-4\" class=\"displacy-label\" startOffset=\"50%\" side=\"left\" fill=\"currentColor\" text-anchor=\"middle\">attr</textPath>\n",
       "    </text>\n",
       "    <path class=\"displacy-arrowhead\" d=\"M925.0,266.5 L933.0,254.5 917.0,254.5\" fill=\"currentColor\"/>\n",
       "</g>\n",
       "</svg></span>"
      ],
      "text/plain": [
       "<IPython.core.display.HTML object>"
      ]
     },
     "metadata": {},
     "output_type": "display_data"
    }
   ],
   "source": [
    "sentence = \"I am a Data Science student\"\n",
    "doc = nlp(sentence)\n",
    "displacy.render(doc, style=\"dep\", jupyter=True)"
   ]
  },
  {
   "cell_type": "markdown",
   "id": "39a85e4d-bc9a-4d7c-930e-90912eec835e",
   "metadata": {},
   "source": [
    "### 6.Lexicon based NER"
   ]
  },
  {
   "cell_type": "code",
   "execution_count": 89,
   "id": "1f7e1a27-56a2-4b7b-8435-b93768258db0",
   "metadata": {},
   "outputs": [],
   "source": [
    "lexicon = {\n",
    "    'technology': ['AI', 'Machine Learning', 'Deep Learning', 'Python'],\n",
    "    'organization': ['Google', 'Microsoft', 'Amazon',\"Facebook\"],\n",
    "    'person': ['Elon Musk', 'Bill Gates',\"Mark Zuckerberg\"]\n",
    "}\n",
    "\n",
    "def lexicon_based_ner(text):\n",
    "    entities = []\n",
    "    for category, words in lexicon.items():\n",
    "        for word in words:\n",
    "            if word in text:\n",
    "                entities.append((word, category))\n",
    "    return entities\n",
    "\n",
    "df['lexicon_entities'] = df['statement'].apply(lexicon_based_ner)"
   ]
  },
  {
   "cell_type": "code",
   "execution_count": 91,
   "id": "b6a23fb5-465c-4c32-9690-d1ff480f7c55",
   "metadata": {},
   "outputs": [
    {
     "data": {
      "text/plain": [
       "[('Facebook', 'organization'), ('Mark Zuckerberg', 'person')]"
      ]
     },
     "execution_count": 91,
     "metadata": {},
     "output_type": "execute_result"
    }
   ],
   "source": [
    "df['lexicon_entities'][1]"
   ]
  },
  {
   "cell_type": "markdown",
   "id": "7993fa19-e09f-461c-9c34-8f2a7add466f",
   "metadata": {},
   "source": [
    "# Task 2:\n",
    "### Compare Lexicon-Based Sentiment Analysis Using TextBlob, Vader , Pattern, SentiWordNet, Afinn  and Hugging Face model for sentimental analysis\n",
    "### On the below text\n",
    "### Text =” I really love Data science Department in the DAVV! It's running very amazing courses.”"
   ]
  },
  {
   "cell_type": "markdown",
   "id": "bc102846-b16c-4457-8160-41a681d2f825",
   "metadata": {},
   "source": [
    "### Textblob"
   ]
  },
  {
   "cell_type": "code",
   "execution_count": 92,
   "id": "1bc70062-e6f3-43a0-bce3-ed5582128c45",
   "metadata": {},
   "outputs": [
    {
     "name": "stdout",
     "output_type": "stream",
     "text": [
      "Sentiment(polarity=0.7025000000000001, subjectivity=0.8)\n"
     ]
    }
   ],
   "source": [
    "from textblob import TextBlob\n",
    "\n",
    "text = \"I really love Data Science Department in the DAVV! It's running very amazing courses.\"\n",
    "blob = TextBlob(text)\n",
    "print(blob.sentiment)"
   ]
  },
  {
   "cell_type": "markdown",
   "id": "789e2b52-9512-4031-bbf8-6e24d53fa92b",
   "metadata": {},
   "source": [
    "### Vader"
   ]
  },
  {
   "cell_type": "code",
   "execution_count": 93,
   "id": "bdb3eed6-694e-462d-9a8b-fb615d5b4d94",
   "metadata": {},
   "outputs": [
    {
     "name": "stdout",
     "output_type": "stream",
     "text": [
      "{'neg': 0.0, 'neu': 0.575, 'pos': 0.425, 'compound': 0.8714}\n"
     ]
    }
   ],
   "source": [
    "from vaderSentiment.vaderSentiment import SentimentIntensityAnalyzer\n",
    "\n",
    "analyzer = SentimentIntensityAnalyzer()\n",
    "print(analyzer.polarity_scores(text))\n"
   ]
  },
  {
   "cell_type": "markdown",
   "id": "96cb0cd0-fdc3-44a7-a98b-15c8a0b20def",
   "metadata": {},
   "source": [
    "### Pattren"
   ]
  },
  {
   "cell_type": "code",
   "execution_count": 94,
   "id": "bf4ae4a0-f03e-492b-b2ce-f115910cf40d",
   "metadata": {},
   "outputs": [
    {
     "name": "stdout",
     "output_type": "stream",
     "text": [
      "(0.7025000000000001, 0.8)\n"
     ]
    }
   ],
   "source": [
    "from pattern.en import sentiment\n",
    "\n",
    "print(sentiment(text))\n"
   ]
  },
  {
   "cell_type": "code",
   "execution_count": 95,
   "id": "db705fa4-ddfb-4dd8-8254-4b10790ee6f7",
   "metadata": {},
   "outputs": [],
   "source": [
    "from nltk.corpus import sentiwordnet as swn\n",
    "from nltk.tokenize import word_tokenize\n",
    "import nltk"
   ]
  },
  {
   "cell_type": "markdown",
   "id": "75429b3a-c450-4d44-808c-7df339ca5f53",
   "metadata": {},
   "source": [
    "### SentiWordNet"
   ]
  },
  {
   "cell_type": "code",
   "execution_count": 96,
   "id": "20696780-0cef-4bc0-81a1-6a4ef08017c5",
   "metadata": {},
   "outputs": [
    {
     "name": "stdout",
     "output_type": "stream",
     "text": [
      "1.5\n"
     ]
    }
   ],
   "source": [
    "\n",
    "def get_sentiwordnet_sentiment(text):\n",
    "    words = word_tokenize(text.lower())\n",
    "    pos_score, neg_score = 0, 0\n",
    "    \n",
    "    for word in words:\n",
    "        synsets = list(swn.senti_synsets(word))\n",
    "        if synsets:\n",
    "            pos_score += synsets[0].pos_score()\n",
    "            neg_score += synsets[0].neg_score()\n",
    "    \n",
    "    return pos_score - neg_score  # Final sentiment score\n",
    "\n",
    "print(get_sentiwordnet_sentiment(text))"
   ]
  },
  {
   "cell_type": "markdown",
   "id": "64bf6aa7-7188-42a9-adfb-cc876b8da083",
   "metadata": {},
   "source": [
    "### Afinn"
   ]
  },
  {
   "cell_type": "code",
   "execution_count": 97,
   "id": "33ba1aa5-0a17-4f8a-b9e8-96e92047cbb3",
   "metadata": {},
   "outputs": [
    {
     "name": "stdout",
     "output_type": "stream",
     "text": [
      "7.0\n"
     ]
    }
   ],
   "source": [
    "from afinn import Afinn\n",
    "\n",
    "afinn = Afinn()\n",
    "print(afinn.score(text))\n"
   ]
  },
  {
   "cell_type": "markdown",
   "id": "d8585282-75a3-41ad-ae15-7d6168309f33",
   "metadata": {},
   "source": [
    "### Hugging Face Transformer Model"
   ]
  },
  {
   "cell_type": "code",
   "execution_count": 99,
   "id": "f4daabcc-2e41-41d1-afe8-a38409dbccca",
   "metadata": {},
   "outputs": [
    {
     "name": "stdout",
     "output_type": "stream",
     "text": [
      "Collecting tf-keras\n",
      "  Downloading tf_keras-2.18.0-py3-none-any.whl (1.7 MB)\n",
      "     ---------------------------------------- 1.7/1.7 MB 6.1 MB/s eta 0:00:00\n",
      "Requirement already satisfied: tensorflow<2.19,>=2.18 in c:\\users\\dell\\appdata\\local\\programs\\python\\python310\\lib\\site-packages (from tf-keras) (2.18.0)\n",
      "Requirement already satisfied: tensorflow-intel==2.18.0 in c:\\users\\dell\\appdata\\local\\programs\\python\\python310\\lib\\site-packages (from tensorflow<2.19,>=2.18->tf-keras) (2.18.0)\n",
      "Requirement already satisfied: gast!=0.5.0,!=0.5.1,!=0.5.2,>=0.2.1 in c:\\users\\dell\\appdata\\local\\programs\\python\\python310\\lib\\site-packages (from tensorflow-intel==2.18.0->tensorflow<2.19,>=2.18->tf-keras) (0.6.0)\n",
      "Requirement already satisfied: packaging in c:\\users\\dell\\appdata\\local\\programs\\python\\python310\\lib\\site-packages (from tensorflow-intel==2.18.0->tensorflow<2.19,>=2.18->tf-keras) (24.2)\n",
      "Requirement already satisfied: flatbuffers>=24.3.25 in c:\\users\\dell\\appdata\\local\\programs\\python\\python310\\lib\\site-packages (from tensorflow-intel==2.18.0->tensorflow<2.19,>=2.18->tf-keras) (25.2.10)\n",
      "Requirement already satisfied: protobuf!=4.21.0,!=4.21.1,!=4.21.2,!=4.21.3,!=4.21.4,!=4.21.5,<6.0.0dev,>=3.20.3 in c:\\users\\dell\\appdata\\local\\programs\\python\\python310\\lib\\site-packages (from tensorflow-intel==2.18.0->tensorflow<2.19,>=2.18->tf-keras) (5.29.3)\n",
      "Requirement already satisfied: absl-py>=1.0.0 in c:\\users\\dell\\appdata\\local\\programs\\python\\python310\\lib\\site-packages (from tensorflow-intel==2.18.0->tensorflow<2.19,>=2.18->tf-keras) (2.1.0)\n",
      "Requirement already satisfied: ml-dtypes<0.5.0,>=0.4.0 in c:\\users\\dell\\appdata\\local\\programs\\python\\python310\\lib\\site-packages (from tensorflow-intel==2.18.0->tensorflow<2.19,>=2.18->tf-keras) (0.4.1)\n",
      "Requirement already satisfied: grpcio<2.0,>=1.24.3 in c:\\users\\dell\\appdata\\local\\programs\\python\\python310\\lib\\site-packages (from tensorflow-intel==2.18.0->tensorflow<2.19,>=2.18->tf-keras) (1.70.0)\n",
      "Requirement already satisfied: requests<3,>=2.21.0 in c:\\users\\dell\\appdata\\local\\programs\\python\\python310\\lib\\site-packages (from tensorflow-intel==2.18.0->tensorflow<2.19,>=2.18->tf-keras) (2.32.3)\n",
      "Requirement already satisfied: tensorflow-io-gcs-filesystem>=0.23.1 in c:\\users\\dell\\appdata\\local\\programs\\python\\python310\\lib\\site-packages (from tensorflow-intel==2.18.0->tensorflow<2.19,>=2.18->tf-keras) (0.31.0)\n",
      "Requirement already satisfied: keras>=3.5.0 in c:\\users\\dell\\appdata\\local\\programs\\python\\python310\\lib\\site-packages (from tensorflow-intel==2.18.0->tensorflow<2.19,>=2.18->tf-keras) (3.8.0)\n",
      "Requirement already satisfied: six>=1.12.0 in c:\\users\\dell\\appdata\\local\\programs\\python\\python310\\lib\\site-packages (from tensorflow-intel==2.18.0->tensorflow<2.19,>=2.18->tf-keras) (1.16.0)\n",
      "Requirement already satisfied: termcolor>=1.1.0 in c:\\users\\dell\\appdata\\local\\programs\\python\\python310\\lib\\site-packages (from tensorflow-intel==2.18.0->tensorflow<2.19,>=2.18->tf-keras) (2.5.0)\n",
      "Requirement already satisfied: opt-einsum>=2.3.2 in c:\\users\\dell\\appdata\\local\\programs\\python\\python310\\lib\\site-packages (from tensorflow-intel==2.18.0->tensorflow<2.19,>=2.18->tf-keras) (3.4.0)\n",
      "Requirement already satisfied: setuptools in c:\\users\\dell\\appdata\\local\\programs\\python\\python310\\lib\\site-packages (from tensorflow-intel==2.18.0->tensorflow<2.19,>=2.18->tf-keras) (65.5.0)\n",
      "Requirement already satisfied: astunparse>=1.6.0 in c:\\users\\dell\\appdata\\local\\programs\\python\\python310\\lib\\site-packages (from tensorflow-intel==2.18.0->tensorflow<2.19,>=2.18->tf-keras) (1.6.3)\n",
      "Requirement already satisfied: wrapt>=1.11.0 in c:\\users\\dell\\appdata\\local\\programs\\python\\python310\\lib\\site-packages (from tensorflow-intel==2.18.0->tensorflow<2.19,>=2.18->tf-keras) (1.17.2)\n",
      "Requirement already satisfied: numpy<2.1.0,>=1.26.0 in c:\\users\\dell\\appdata\\local\\programs\\python\\python310\\lib\\site-packages (from tensorflow-intel==2.18.0->tensorflow<2.19,>=2.18->tf-keras) (1.26.4)\n",
      "Requirement already satisfied: h5py>=3.11.0 in c:\\users\\dell\\appdata\\local\\programs\\python\\python310\\lib\\site-packages (from tensorflow-intel==2.18.0->tensorflow<2.19,>=2.18->tf-keras) (3.12.1)\n",
      "Requirement already satisfied: libclang>=13.0.0 in c:\\users\\dell\\appdata\\local\\programs\\python\\python310\\lib\\site-packages (from tensorflow-intel==2.18.0->tensorflow<2.19,>=2.18->tf-keras) (18.1.1)\n",
      "Requirement already satisfied: typing-extensions>=3.6.6 in c:\\users\\dell\\appdata\\local\\programs\\python\\python310\\lib\\site-packages (from tensorflow-intel==2.18.0->tensorflow<2.19,>=2.18->tf-keras) (4.12.2)\n",
      "Requirement already satisfied: tensorboard<2.19,>=2.18 in c:\\users\\dell\\appdata\\local\\programs\\python\\python310\\lib\\site-packages (from tensorflow-intel==2.18.0->tensorflow<2.19,>=2.18->tf-keras) (2.18.0)\n",
      "Requirement already satisfied: google-pasta>=0.1.1 in c:\\users\\dell\\appdata\\local\\programs\\python\\python310\\lib\\site-packages (from tensorflow-intel==2.18.0->tensorflow<2.19,>=2.18->tf-keras) (0.2.0)\n",
      "Requirement already satisfied: wheel<1.0,>=0.23.0 in c:\\users\\dell\\appdata\\local\\programs\\python\\python310\\lib\\site-packages (from astunparse>=1.6.0->tensorflow-intel==2.18.0->tensorflow<2.19,>=2.18->tf-keras) (0.45.1)\n",
      "Requirement already satisfied: rich in c:\\users\\dell\\appdata\\local\\programs\\python\\python310\\lib\\site-packages (from keras>=3.5.0->tensorflow-intel==2.18.0->tensorflow<2.19,>=2.18->tf-keras) (13.9.4)\n",
      "Requirement already satisfied: namex in c:\\users\\dell\\appdata\\local\\programs\\python\\python310\\lib\\site-packages (from keras>=3.5.0->tensorflow-intel==2.18.0->tensorflow<2.19,>=2.18->tf-keras) (0.0.8)\n",
      "Requirement already satisfied: optree in c:\\users\\dell\\appdata\\local\\programs\\python\\python310\\lib\\site-packages (from keras>=3.5.0->tensorflow-intel==2.18.0->tensorflow<2.19,>=2.18->tf-keras) (0.14.0)\n",
      "Requirement already satisfied: certifi>=2017.4.17 in c:\\users\\dell\\appdata\\local\\programs\\python\\python310\\lib\\site-packages (from requests<3,>=2.21.0->tensorflow-intel==2.18.0->tensorflow<2.19,>=2.18->tf-keras) (2024.8.30)\n",
      "Requirement already satisfied: charset-normalizer<4,>=2 in c:\\users\\dell\\appdata\\local\\programs\\python\\python310\\lib\\site-packages (from requests<3,>=2.21.0->tensorflow-intel==2.18.0->tensorflow<2.19,>=2.18->tf-keras) (3.4.0)\n",
      "Requirement already satisfied: idna<4,>=2.5 in c:\\users\\dell\\appdata\\local\\programs\\python\\python310\\lib\\site-packages (from requests<3,>=2.21.0->tensorflow-intel==2.18.0->tensorflow<2.19,>=2.18->tf-keras) (3.10)\n",
      "Requirement already satisfied: urllib3<3,>=1.21.1 in c:\\users\\dell\\appdata\\local\\programs\\python\\python310\\lib\\site-packages (from requests<3,>=2.21.0->tensorflow-intel==2.18.0->tensorflow<2.19,>=2.18->tf-keras) (2.2.3)\n",
      "Requirement already satisfied: werkzeug>=1.0.1 in c:\\users\\dell\\appdata\\local\\programs\\python\\python310\\lib\\site-packages (from tensorboard<2.19,>=2.18->tensorflow-intel==2.18.0->tensorflow<2.19,>=2.18->tf-keras) (3.1.3)\n",
      "Requirement already satisfied: tensorboard-data-server<0.8.0,>=0.7.0 in c:\\users\\dell\\appdata\\local\\programs\\python\\python310\\lib\\site-packages (from tensorboard<2.19,>=2.18->tensorflow-intel==2.18.0->tensorflow<2.19,>=2.18->tf-keras) (0.7.2)\n",
      "Requirement already satisfied: markdown>=2.6.8 in c:\\users\\dell\\appdata\\local\\programs\\python\\python310\\lib\\site-packages (from tensorboard<2.19,>=2.18->tensorflow-intel==2.18.0->tensorflow<2.19,>=2.18->tf-keras) (3.7)\n",
      "Requirement already satisfied: MarkupSafe>=2.1.1 in c:\\users\\dell\\appdata\\local\\programs\\python\\python310\\lib\\site-packages (from werkzeug>=1.0.1->tensorboard<2.19,>=2.18->tensorflow-intel==2.18.0->tensorflow<2.19,>=2.18->tf-keras) (3.0.2)\n",
      "Requirement already satisfied: pygments<3.0.0,>=2.13.0 in c:\\users\\dell\\appdata\\local\\programs\\python\\python310\\lib\\site-packages (from rich->keras>=3.5.0->tensorflow-intel==2.18.0->tensorflow<2.19,>=2.18->tf-keras) (2.18.0)\n",
      "Requirement already satisfied: markdown-it-py>=2.2.0 in c:\\users\\dell\\appdata\\local\\programs\\python\\python310\\lib\\site-packages (from rich->keras>=3.5.0->tensorflow-intel==2.18.0->tensorflow<2.19,>=2.18->tf-keras) (3.0.0)\n",
      "Requirement already satisfied: mdurl~=0.1 in c:\\users\\dell\\appdata\\local\\programs\\python\\python310\\lib\\site-packages (from markdown-it-py>=2.2.0->rich->keras>=3.5.0->tensorflow-intel==2.18.0->tensorflow<2.19,>=2.18->tf-keras) (0.1.2)\n",
      "Installing collected packages: tf-keras\n",
      "Successfully installed tf-keras-2.18.0\n"
     ]
    },
    {
     "name": "stderr",
     "output_type": "stream",
     "text": [
      "WARNING: Ignoring invalid distribution -umpy (c:\\users\\dell\\appdata\\local\\programs\\python\\python310\\lib\\site-packages)\n",
      "WARNING: Ignoring invalid distribution -umpy (c:\\users\\dell\\appdata\\local\\programs\\python\\python310\\lib\\site-packages)\n",
      "WARNING: Ignoring invalid distribution -umpy (c:\\users\\dell\\appdata\\local\\programs\\python\\python310\\lib\\site-packages)\n",
      "WARNING: Ignoring invalid distribution -umpy (c:\\users\\dell\\appdata\\local\\programs\\python\\python310\\lib\\site-packages)\n",
      "WARNING: Ignoring invalid distribution -umpy (c:\\users\\dell\\appdata\\local\\programs\\python\\python310\\lib\\site-packages)\n",
      "WARNING: Ignoring invalid distribution -umpy (c:\\users\\dell\\appdata\\local\\programs\\python\\python310\\lib\\site-packages)\n",
      "WARNING: Ignoring invalid distribution -umpy (c:\\users\\dell\\appdata\\local\\programs\\python\\python310\\lib\\site-packages)\n",
      "\n",
      "[notice] A new release of pip available: 22.3.1 -> 25.0.1\n",
      "[notice] To update, run: python.exe -m pip install --upgrade pip\n"
     ]
    }
   ],
   "source": [
    "!pip install tf-keras"
   ]
  },
  {
   "cell_type": "code",
   "execution_count": 100,
   "id": "0747bc90-f704-4c70-a639-5397e18f1871",
   "metadata": {},
   "outputs": [
    {
     "name": "stderr",
     "output_type": "stream",
     "text": [
      "No model was supplied, defaulted to distilbert/distilbert-base-uncased-finetuned-sst-2-english and revision 714eb0f (https://huggingface.co/distilbert/distilbert-base-uncased-finetuned-sst-2-english).\n",
      "Using a pipeline without specifying a model name and revision in production is not recommended.\n"
     ]
    },
    {
     "name": "stdout",
     "output_type": "stream",
     "text": [
      "WARNING:tensorflow:From C:\\Users\\Dell\\AppData\\Local\\Programs\\Python\\Python310\\lib\\site-packages\\tf_keras\\src\\losses.py:2976: The name tf.losses.sparse_softmax_cross_entropy is deprecated. Please use tf.compat.v1.losses.sparse_softmax_cross_entropy instead.\n",
      "\n"
     ]
    },
    {
     "name": "stderr",
     "output_type": "stream",
     "text": [
      "C:\\Users\\Dell\\AppData\\Local\\Programs\\Python\\Python310\\lib\\site-packages\\huggingface_hub\\file_download.py:140: UserWarning: `huggingface_hub` cache-system uses symlinks by default to efficiently store duplicated files but your machine does not support them in C:\\Users\\Dell\\.cache\\huggingface\\hub\\models--distilbert--distilbert-base-uncased-finetuned-sst-2-english. Caching files will still work but in a degraded version that might require more space on your disk. This warning can be disabled by setting the `HF_HUB_DISABLE_SYMLINKS_WARNING` environment variable. For more details, see https://huggingface.co/docs/huggingface_hub/how-to-cache#limitations.\n",
      "To support symlinks on Windows, you either need to activate Developer Mode or to run Python as an administrator. In order to activate developer mode, see this article: https://docs.microsoft.com/en-us/windows/apps/get-started/enable-your-device-for-development\n",
      "  warnings.warn(message)\n"
     ]
    },
    {
     "name": "stdout",
     "output_type": "stream",
     "text": [
      "WARNING:tensorflow:From C:\\Users\\Dell\\AppData\\Local\\Programs\\Python\\Python310\\lib\\site-packages\\tf_keras\\src\\backend.py:873: The name tf.get_default_graph is deprecated. Please use tf.compat.v1.get_default_graph instead.\n",
      "\n"
     ]
    },
    {
     "name": "stderr",
     "output_type": "stream",
     "text": [
      "All PyTorch model weights were used when initializing TFDistilBertForSequenceClassification.\n",
      "\n",
      "All the weights of TFDistilBertForSequenceClassification were initialized from the PyTorch model.\n",
      "If your task is similar to the task the model of the checkpoint was trained on, you can already use TFDistilBertForSequenceClassification for predictions without further training.\n",
      "Device set to use 0\n"
     ]
    },
    {
     "name": "stdout",
     "output_type": "stream",
     "text": [
      "[{'label': 'POSITIVE', 'score': 0.9998626708984375}]\n"
     ]
    }
   ],
   "source": [
    "from transformers import pipeline\n",
    "\n",
    "classifier = pipeline(\"sentiment-analysis\")\n",
    "print(classifier(text))\n"
   ]
  },
  {
   "cell_type": "code",
   "execution_count": null,
   "id": "2c24d1bc-604b-45c3-a312-fde44d57388a",
   "metadata": {},
   "outputs": [],
   "source": []
  }
 ],
 "metadata": {
  "kernelspec": {
   "display_name": "Python 3 (ipykernel)",
   "language": "python",
   "name": "python3"
  },
  "language_info": {
   "codemirror_mode": {
    "name": "ipython",
    "version": 3
   },
   "file_extension": ".py",
   "mimetype": "text/x-python",
   "name": "python",
   "nbconvert_exporter": "python",
   "pygments_lexer": "ipython3",
   "version": "3.10.10"
  }
 },
 "nbformat": 4,
 "nbformat_minor": 5
}
